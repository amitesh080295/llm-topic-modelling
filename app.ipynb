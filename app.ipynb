{
 "cells": [
  {
   "attachments": {},
   "cell_type": "markdown",
   "metadata": {},
   "source": [
    "# Topic Modelling With Language Models"
   ]
  },
  {
   "cell_type": "code",
   "execution_count": 26,
   "metadata": {},
   "outputs": [
    {
     "data": {
      "text/plain": [
       "True"
      ]
     },
     "execution_count": 26,
     "metadata": {},
     "output_type": "execute_result"
    }
   ],
   "source": [
    "from langchain.chat_models import ChatOpenAI\n",
    "from langchain.text_splitter import RecursiveCharacterTextSplitter\n",
    "from langchain.chains.summarize import load_summarize_chain\n",
    "from langchain.chains import create_extraction_chain\n",
    "\n",
    "from langchain.embeddings.openai import OpenAIEmbeddings\n",
    "from langchain.chains import RetrievalQA\n",
    "from langchain.vectorstores import Pinecone\n",
    "import pinecone\n",
    "\n",
    "from langchain.prompts.chat import (\n",
    "    ChatPromptTemplate,\n",
    "    SystemMessagePromptTemplate,\n",
    "    HumanMessagePromptTemplate\n",
    ")\n",
    "\n",
    "import os\n",
    "from dotenv import load_dotenv\n",
    "\n",
    "load_dotenv()"
   ]
  },
  {
   "attachments": {},
   "cell_type": "markdown",
   "metadata": {},
   "source": [
    "### Create the LLMs and get data"
   ]
  },
  {
   "cell_type": "code",
   "execution_count": 3,
   "metadata": {},
   "outputs": [],
   "source": [
    "llm3 = ChatOpenAI(\n",
    "    temperature=0,\n",
    "    openai_api_key=os.getenv('OPENAI_API_KEY'),\n",
    "    model_name='gpt-3.5-turbo-0613',\n",
    "    request_timeout=180\n",
    ")\n",
    "\n",
    "llm4 = ChatOpenAI(\n",
    "    temperature=0,\n",
    "    openai_api_key=os.getenv('OPENAI_API_KEY'),\n",
    "    model_name='gpt-4-0613',\n",
    "    request_timeout=180\n",
    ")"
   ]
  },
  {
   "cell_type": "code",
   "execution_count": 6,
   "metadata": {},
   "outputs": [],
   "source": [
    "transcipt_paths = [\n",
    "    './transcripts/mfm_pod_steph.txt',\n",
    "    './transcripts/mfm_pod_alex.txt',\n",
    "    './transcripts/mfm_pod_rob.txt'\n",
    "]\n",
    "\n",
    "with open('./transcripts/mfm_pod_steph.txt') as file:\n",
    "    transcript = file.read()"
   ]
  },
  {
   "cell_type": "code",
   "execution_count": 8,
   "metadata": {},
   "outputs": [
    {
     "name": "stdout",
     "output_type": "stream",
     "text": [
      "Shaan Puri (0:00:00-0:00:03): D to see hearing AIDS. I think that's actually going to be a big deal. \n",
      "\n",
      "Sam Parr (0:00:03-0:00:05): And they're profitable. \n",
      "\n",
      "Shaan Puri (0:00:05-0:00:08): I mean, I'm j\n"
     ]
    }
   ],
   "source": [
    "print(transcript[:200])"
   ]
  },
  {
   "attachments": {},
   "cell_type": "markdown",
   "metadata": {},
   "source": [
    "Then we are going to split our text up into chunks. We do this so:\n",
    "\n",
    "1. The context size is smaller and the LLM can increase it's attention to context ratio\n",
    "2. In case the text is too long and it wouldn't fit in the prompt anyway"
   ]
  },
  {
   "cell_type": "code",
   "execution_count": 10,
   "metadata": {},
   "outputs": [
    {
     "name": "stdout",
     "output_type": "stream",
     "text": [
      "You have 3 docs. First doc is 2801 tokens\n"
     ]
    }
   ],
   "source": [
    "text_splitter = RecursiveCharacterTextSplitter(separators=[\"\\n\\n\", \"\\n\", \" \"], chunk_size=10000, chunk_overlap=2200)\n",
    "\n",
    "transcript_subsection_charactetrs = 23250\n",
    "docs = text_splitter.create_documents([transcript[:transcript_subsection_charactetrs]])\n",
    "print (f\"You have {len(docs)} docs. First doc is {llm3.get_num_tokens(docs[0].page_content)} tokens\")"
   ]
  },
  {
   "attachments": {},
   "cell_type": "markdown",
   "metadata": {},
   "source": [
    "### Part 1 - Extract Topic Titles and Short Description"
   ]
  },
  {
   "cell_type": "code",
   "execution_count": 11,
   "metadata": {},
   "outputs": [],
   "source": [
    "template=\"\"\"\n",
    "You are a helpful assistant that helps retrieve topics talked about in a podcast transcript\n",
    "- Your goal is to extract the topic names and brief 1-sentence description of the topic\n",
    "- Topics include:\n",
    "  - Themes\n",
    "  - Business Ideas\n",
    "  - Interesting Stories\n",
    "  - Money making businesses\n",
    "  - Quick stories about people\n",
    "  - Mental Frameworks\n",
    "  - Stories about an industry\n",
    "  - Analogies mentioned\n",
    "  - Advice or words of caution\n",
    "  - Pieces of news or current events\n",
    "- Provide a brief description of the topics after the topic name. Example: 'Topic: Brief Description'\n",
    "- Use the same words and terminology that is said in the podcast\n",
    "- Do not respond with anything outside of the podcast. If you don't see any topics, say, 'No Topics'\n",
    "- Do not respond with numbers, just bullet points\n",
    "- Do not include anything about 'Marketing Against the Grain'\n",
    "- Only pull topics from the transcript. Do not use the examples\n",
    "- Make your titles descriptive but concise. Example: 'Shaan's Experience at Twitch' should be 'Shaan's Interesting Projects At Twitch'\n",
    "- A topic should be substantial, more than just a one-off comment\n",
    "\n",
    "% START OF EXAMPLES\n",
    " - Sam’s Elisabeth Murdoch Story: Sam got a call from Elizabeth Murdoch when he had just launched The Hustle. She wanted to generate video content.\n",
    " - Shaan’s Rupert Murdoch Story: When Shaan was running Blab he was invited to an event organized by Rupert Murdoch during CES in Las Vegas.\n",
    " - Revenge Against The Spam Calls: A couple of businesses focused on protecting consumers: RoboCall, TrueCaller, DoNotPay, FitIt\n",
    " - Wildcard CEOs vs. Prudent CEOs: However, Munger likes to surround himself with prudent CEO’s and says he would never hire Musk.\n",
    " - Chess Business: Priyav, a college student, expressed his doubts on the MFM Facebook group about his Chess training business, mychesstutor.com, making $12.5K MRR with 90 enrolled.\n",
    " - Restaurant Refiller: An MFM Facebook group member commented on how they pay AirMark $1,000/month for toilet paper and toilet cover refills for their restaurant. Shaan sees an opportunity here for anyone wanting to compete against AirMark.\n",
    " - Collecting: Shaan shared an idea to build a mobile only marketplace for a collectors’ category; similar to what StockX does for premium sneakers.\n",
    "% END OF EXAMPLES\n",
    "\"\"\"\n",
    "system_message_prompt_map = SystemMessagePromptTemplate.from_template(template)\n",
    "\n",
    "human_template=\"Transcript: {text}\" # Simply just pass the text as a human message\n",
    "human_message_prompt_map = HumanMessagePromptTemplate.from_template(human_template)\n",
    "\n",
    "chat_prompt_map = ChatPromptTemplate.from_messages(messages=[system_message_prompt_map, human_message_prompt_map])"
   ]
  },
  {
   "cell_type": "code",
   "execution_count": 12,
   "metadata": {},
   "outputs": [],
   "source": [
    "template=\"\"\"\n",
    "You are a helpful assistant that helps retrieve topics talked about in a podcast transcript\n",
    "- You will be given a series of bullet topics of topics vound\n",
    "- Your goal is to exract the topic names and brief 1-sentence description of the topic\n",
    "- Deduplicate any bullet points you see\n",
    "- Only pull topics from the transcript. Do not use the examples\n",
    "\n",
    "% START OF EXAMPLES\n",
    " - Sam’s Elisabeth Murdoch Story: Sam got a call from Elizabeth Murdoch when he had just launched The Hustle. She wanted to generate video content.\n",
    " - Shaan’s Rupert Murdoch Story: When Shaan was running Blab he was invited to an event organized by Rupert Murdoch during CES in Las Vegas.\n",
    "% END OF EXAMPLES\n",
    "\"\"\"\n",
    "system_message_prompt_map = SystemMessagePromptTemplate.from_template(template)\n",
    "\n",
    "human_template=\"Transcript: {text}\" # Simply just pass the text as a human message\n",
    "human_message_prompt_map = HumanMessagePromptTemplate.from_template(human_template)\n",
    "\n",
    "chat_prompt_combine = ChatPromptTemplate.from_messages(messages=[system_message_prompt_map, human_message_prompt_map])"
   ]
  },
  {
   "cell_type": "code",
   "execution_count": 15,
   "metadata": {},
   "outputs": [],
   "source": [
    "chain = load_summarize_chain(\n",
    "    llm3,\n",
    "    chain_type='map_reduce',\n",
    "    map_prompt=chat_prompt_map,\n",
    "    combine_prompt=chat_prompt_combine\n",
    ")"
   ]
  },
  {
   "cell_type": "code",
   "execution_count": 16,
   "metadata": {},
   "outputs": [],
   "source": [
    "topics_found = chain.run({'input_documents': docs})"
   ]
  },
  {
   "cell_type": "code",
   "execution_count": 17,
   "metadata": {},
   "outputs": [
    {
     "name": "stdout",
     "output_type": "stream",
     "text": [
      "- Fractional real estate: Taking advantage of the high vacancy rates in commercial real estate by converting unused spaces into different types of businesses, such as yoga studios, Pilates studios, rage rooms, etc. (Converting unused spaces into different types of businesses)\n",
      "- Temple Immersive: A club in San Francisco that transforms into a yoga class during the day and a nightclub during the night, utilizing unused real estate. (Club in San Francisco that transforms into a yoga class during the day and a nightclub during the night)\n",
      "- Rage rooms: Rooms where people can go to release their anger and frustration by smashing objects like plates and electronics. (Rooms where people can release anger and frustration by smashing objects)\n",
      "- Escape rooms: A business idea where participants are locked in a room and must solve puzzles and find clues to escape within a certain time limit. Raleigh Williams created an escape room business and sold it for $26 million. (Business idea where participants are locked in a room and must solve puzzles to escape)\n",
      "- Out-of-home entertainment: A category that includes activities like trampoline parks and axe throwing, which can be bundled together to create a unique entertainment experience. (Category of activities like trampoline parks and axe throwing)\n"
     ]
    }
   ],
   "source": [
    "print(topics_found)"
   ]
  },
  {
   "cell_type": "code",
   "execution_count": 18,
   "metadata": {},
   "outputs": [],
   "source": [
    "schema = {\n",
    "    \"properties\": {\n",
    "        # The title of the topic\n",
    "        \"topic_name\": {\n",
    "            \"type\": \"string\",\n",
    "            \"description\" : \"The title of the topic listed\"\n",
    "        },\n",
    "        # The description\n",
    "        \"description\": {\n",
    "            \"type\": \"string\",\n",
    "            \"description\" : \"The description of the topic listed\"\n",
    "        },\n",
    "        \"tag\": {\n",
    "            \"type\": \"string\",\n",
    "            \"description\" : \"The type of content being described\",\n",
    "            \"enum\" : ['Business Models', 'Life Advice', 'Health & Wellness', 'Stories']\n",
    "        }\n",
    "    },\n",
    "    \"required\": [\"topic\", \"description\"],\n",
    "}"
   ]
  },
  {
   "cell_type": "code",
   "execution_count": 19,
   "metadata": {},
   "outputs": [],
   "source": [
    "chain = create_extraction_chain(schema, llm3)"
   ]
  },
  {
   "cell_type": "code",
   "execution_count": 20,
   "metadata": {},
   "outputs": [],
   "source": [
    "topics_structured = chain.run(topics_found)"
   ]
  },
  {
   "cell_type": "code",
   "execution_count": 21,
   "metadata": {},
   "outputs": [
    {
     "data": {
      "text/plain": [
       "[{'topic_name': 'Fractional real estate',\n",
       "  'description': 'Taking advantage of the high vacancy rates in commercial real estate by converting unused spaces into different types of businesses, such as yoga studios, Pilates studios, rage rooms, etc.',\n",
       "  'tag': 'Business Models'},\n",
       " {'topic_name': 'Temple Immersive',\n",
       "  'description': 'A club in San Francisco that transforms into a yoga class during the day and a nightclub during the night, utilizing unused real estate.',\n",
       "  'tag': 'Business Models'},\n",
       " {'topic_name': 'Rage rooms',\n",
       "  'description': 'Rooms where people can go to release their anger and frustration by smashing objects like plates and electronics.',\n",
       "  'tag': 'Health & Wellness'},\n",
       " {'topic_name': 'Escape rooms',\n",
       "  'description': 'A business idea where participants are locked in a room and must solve puzzles and find clues to escape within a certain time limit. Raleigh Williams created an escape room business and sold it for $26 million.',\n",
       "  'tag': 'Business Models'},\n",
       " {'topic_name': 'Out-of-home entertainment',\n",
       "  'description': 'A category that includes activities like trampoline parks and axe throwing, which can be bundled together to create a unique entertainment experience.',\n",
       "  'tag': 'Business Models'}]"
      ]
     },
     "execution_count": 21,
     "metadata": {},
     "output_type": "execute_result"
    }
   ],
   "source": [
    "topics_structured"
   ]
  },
  {
   "attachments": {},
   "cell_type": "markdown",
   "metadata": {},
   "source": [
    "### Part 2 - Expand on the topics we found"
   ]
  },
  {
   "cell_type": "code",
   "execution_count": 22,
   "metadata": {},
   "outputs": [
    {
     "name": "stdout",
     "output_type": "stream",
     "text": [
      "You have 8 docs. First doc is 776 tokens\n"
     ]
    }
   ],
   "source": [
    "text_splitter = RecursiveCharacterTextSplitter(chunk_size=4000, chunk_overlap=800)\n",
    "\n",
    "docs = text_splitter.create_documents([transcript[:transcript_subsection_charactetrs]])\n",
    "\n",
    "print (f\"You have {len(docs)} docs. First doc is {llm3.get_num_tokens(docs[0].page_content)} tokens\")"
   ]
  },
  {
   "attachments": {},
   "cell_type": "markdown",
   "metadata": {},
   "source": [
    "For doing Question & Answer Retrieval, we need to get embeddings for our documents so we can pull out the docs which are similar for context later."
   ]
  },
  {
   "cell_type": "code",
   "execution_count": 23,
   "metadata": {},
   "outputs": [],
   "source": [
    "embeddings = OpenAIEmbeddings(openai_api_key=os.getenv('OPENAI_API_KEY'))"
   ]
  },
  {
   "cell_type": "code",
   "execution_count": 24,
   "metadata": {},
   "outputs": [],
   "source": [
    "pinecone.init(\n",
    "    api_key=os.getenv('PINECONE_API_KEY'),\n",
    "    environment=os.getenv('PINECONE_ENV')\n",
    ")"
   ]
  },
  {
   "cell_type": "code",
   "execution_count": 27,
   "metadata": {},
   "outputs": [],
   "source": [
    "index_name = 'langchaintest'\n",
    "\n",
    "docsearch = Pinecone.from_documents(docs, embeddings, index_name=index_name)"
   ]
  },
  {
   "cell_type": "code",
   "execution_count": 28,
   "metadata": {},
   "outputs": [],
   "source": [
    "system_template = \"\"\"\n",
    "You will be given text from a podcast transcript which contains many topics.\n",
    "You goal is to write a summary (5 sentences or less) about a topic the user chooses\n",
    "Do not respond with information that isn't relevant to the topic that the user gives you\n",
    "----------------\n",
    "{context}\"\"\"\n",
    "\n",
    "messages = [\n",
    "    SystemMessagePromptTemplate.from_template(system_template),\n",
    "    HumanMessagePromptTemplate.from_template(\"{question}\"),\n",
    "]\n",
    "\n",
    "# This will pull the two messages together and get them ready to be sent to the LLM through the retriever\n",
    "CHAT_PROMPT = ChatPromptTemplate.from_messages(messages)"
   ]
  },
  {
   "cell_type": "code",
   "execution_count": 29,
   "metadata": {},
   "outputs": [],
   "source": [
    "qa = RetrievalQA.from_chain_type(llm=llm3,\n",
    "                                 chain_type=\"stuff\",\n",
    "                                 retriever=docsearch.as_retriever(k=4),\n",
    "                                 chain_type_kwargs = {\n",
    "                                     'prompt': CHAT_PROMPT\n",
    "                                 })"
   ]
  },
  {
   "cell_type": "code",
   "execution_count": 30,
   "metadata": {},
   "outputs": [
    {
     "name": "stdout",
     "output_type": "stream",
     "text": [
      "Fractional real estate: Taking advantage of the high vacancy rates in commercial real estate by converting unused spaces into different types of businesses, such as yoga studios, Pilates studios, rage rooms, etc.\n",
      "One interesting opportunity in the current commercial real estate market is the concept of fractional real estate. With high vacancy rates in office buildings, there is potential to convert these unused spaces into different types of businesses. This could include transforming a club into a yoga studio or a rage room, where people can go to release their anger by smashing things. By repurposing these spaces, it allows for more efficient use of real estate and the potential for new and unique businesses to thrive.\n",
      "\n",
      "\n",
      "\n",
      "Temple Immersive: A club in San Francisco that transforms into a yoga class during the day and a nightclub during the night, utilizing unused real estate.\n",
      "Temple Immersive is a club in San Francisco that takes advantage of unused real estate by transforming into a yoga class during the day and a nightclub at night. This concept allows for the efficient use of space that would otherwise be vacant. The club reached out to a yoga studio to collaborate on this unique idea. This example highlights the potential for fractional real estate, where different businesses can share and utilize the same space at different times. This trend of repurposing unused real estate extends beyond just yoga studios and nightclubs, with other ideas such as rage rooms gaining popularity.\n",
      "\n",
      "\n",
      "\n",
      "Rage rooms: Rooms where people can go to release their anger and frustration by smashing objects like plates and electronics.\n",
      "Rage rooms are a growing trend where people can go to release their anger and frustration by smashing objects like plates and electronics. These rooms provide a unique and cathartic experience that is not easily found in everyday life. The concept is simple - you pay a fee and get a session in an empty room filled with items to smash. This idea has gained popularity as a form of stress relief and entertainment. Additionally, there is potential for unused commercial real estate, such as nightclubs, to be converted into rage rooms or other forms of out-of-home entertainment.\n",
      "\n",
      "\n",
      "\n",
      "Escape rooms: A business idea where participants are locked in a room and must solve puzzles and find clues to escape within a certain time limit. Raleigh Williams created an escape room business and sold it for $26 million.\n",
      "Raleigh Williams created an escape room business and sold it for $26 million. He started by converting an abandoned bus into an escape room on wheels, which allowed him to drive it to different locations for corporate events. He expanded his business by opening more escape rooms and adding additional attractions like trampoline parks and axe throwing. Over the years, he made $20 million in distributions and spent $10 million building out the business. This success story highlights the lucrative potential of the escape room industry.\n",
      "\n",
      "\n",
      "\n",
      "Out-of-home entertainment: A category that includes activities like trampoline parks and axe throwing, which can be bundled together to create a unique entertainment experience.\n",
      "Raleigh Williams, a member of Hampton, created a successful out-of-home entertainment business by building escape rooms inside an abandoned bus. He then expanded his business by opening more escape rooms and adding additional attractions like trampoline parks and axe throwing. Over the years, he built up his business and eventually sold it for $26 million. This demonstrates the potential profitability of the out-of-home entertainment category, which includes various activities that can be bundled together to create a unique entertainment experience.\n",
      "\n",
      "\n",
      "\n"
     ]
    }
   ],
   "source": [
    "for topic in topics_structured[:5]:\n",
    "    query = f\"\"\"\n",
    "        {topic['topic_name']}: {topic['description']}\n",
    "    \"\"\"\n",
    "\n",
    "    expanded_topic = qa.run(query)\n",
    "\n",
    "    print(f\"{topic['topic_name']}: {topic['description']}\")\n",
    "    print(expanded_topic)\n",
    "    print (\"\\n\\n\")"
   ]
  },
  {
   "attachments": {},
   "cell_type": "markdown",
   "metadata": {},
   "source": [
    "### Part 3 - Chapters with Timestamps"
   ]
  },
  {
   "cell_type": "code",
   "execution_count": 31,
   "metadata": {},
   "outputs": [],
   "source": [
    "system_template = \"\"\"\n",
    "What is the first timestamp when the speakers started talking about a topic the user gives?\n",
    "Only respond with the timestamp, nothing else. Example: 0:18:24\n",
    "----------------\n",
    "{context}\"\"\"\n",
    "messages = [\n",
    "    SystemMessagePromptTemplate.from_template(system_template),\n",
    "    HumanMessagePromptTemplate.from_template(\"{question}\"),\n",
    "]\n",
    "CHAT_PROMPT = ChatPromptTemplate.from_messages(messages)"
   ]
  },
  {
   "cell_type": "code",
   "execution_count": 32,
   "metadata": {},
   "outputs": [],
   "source": [
    "qa = RetrievalQA.from_chain_type(llm=llm3,\n",
    "                                 chain_type=\"stuff\",\n",
    "                                 retriever=docsearch.as_retriever(k=4),\n",
    "                                 chain_type_kwargs = {\n",
    "                                     'prompt': CHAT_PROMPT\n",
    "                                 })"
   ]
  },
  {
   "cell_type": "code",
   "execution_count": 33,
   "metadata": {},
   "outputs": [],
   "source": [
    "topic_timestamps = []\n",
    "\n",
    "for topic in topics_structured:\n",
    "\n",
    "    query = f\"{topic['topic_name']} - {topic['description']}\"\n",
    "    timestamp = qa.run(query)\n",
    "    \n",
    "    topic_timestamps.append(f\"{timestamp} - {topic['topic_name']}\")"
   ]
  },
  {
   "cell_type": "code",
   "execution_count": 34,
   "metadata": {},
   "outputs": [
    {
     "name": "stdout",
     "output_type": "stream",
     "text": [
      "0:12:32 - Fractional real estate\n",
      "0:13:08 - Temple Immersive\n",
      "0:16:11 - Rage rooms\n",
      "0:17:09 - Escape rooms\n",
      "0:17:09 - Out-of-home entertainment\n"
     ]
    }
   ],
   "source": [
    "print (\"\\n\".join(sorted(topic_timestamps)))"
   ]
  }
 ],
 "metadata": {
  "kernelspec": {
   "display_name": "venv",
   "language": "python",
   "name": "python3"
  },
  "language_info": {
   "codemirror_mode": {
    "name": "ipython",
    "version": 3
   },
   "file_extension": ".py",
   "mimetype": "text/x-python",
   "name": "python",
   "nbconvert_exporter": "python",
   "pygments_lexer": "ipython3",
   "version": "3.9.17"
  },
  "orig_nbformat": 4
 },
 "nbformat": 4,
 "nbformat_minor": 2
}
